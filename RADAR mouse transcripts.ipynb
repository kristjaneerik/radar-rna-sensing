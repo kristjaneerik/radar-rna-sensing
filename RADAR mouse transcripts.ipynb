{
 "cells": [
  {
   "cell_type": "markdown",
   "metadata": {},
   "source": [
    "# RADAR MOUSE\n",
    "\n",
    "RADAR rules:\n",
    "- the sensor cannot be too short, let's say the minimum is 36 bp\n",
    "- a short sensor can be rescued with a \"split\" sequence, say 36 bp + 54 bp. The longer split part can be either up or downstream; the longest I tested had a gap of 1956 bp and downstream; the better one was 381 bp, and upstream\n",
    "- we can utilize both CDS and 3' UTR sequences, but CDSs are less good as targets\n",
    "- minimum GC can be 35%"
   ]
  },
  {
   "cell_type": "code",
   "execution_count": 1,
   "metadata": {},
   "outputs": [],
   "source": [
    "%matplotlib inline"
   ]
  },
  {
   "cell_type": "code",
   "execution_count": 2,
   "metadata": {},
   "outputs": [],
   "source": [
    "import matplotlib\n",
    "import matplotlib.pyplot as plt\n",
    "import pandas as pd\n",
    "import tqdm\n",
    "import json\n",
    "import gzip\n",
    "from io import StringIO\n",
    "import multiprocessing\n",
    "import os\n",
    "import glob\n",
    "import re\n",
    "import random\n",
    "matplotlib.rc(\"figure\", dpi=160)\n",
    "TABLEAU_10 = {  # new version\n",
    "    \"light teal\": \"#76B7B2\",\n",
    "    \"red\": \"#E15759\",\n",
    "    \"blue\": \"#4E79A7\",\n",
    "    \"orange\": \"#F28E2B\",\n",
    "    \"green\": \"#59A14F\",\n",
    "    \"yellow\": \"#EDC948\",\n",
    "    \"purple\": \"#B07AA1\",\n",
    "    \"pink\": \"#FF9DA7\",\n",
    "    \"brown\": \"#9C755F\",\n",
    "    \"light gray\": \"#BAB0AC\",\n",
    "}\n",
    "matplotlib.rcParams[\"axes.prop_cycle\"] = plt.cycler(color=list(TABLEAU_10.values()))\n",
    "plt.rcParams.update({'font.sans-serif': 'Arial'})\n",
    "plt.rcParams.update({'font.family': 'sans-serif'})\n",
    "plt.rcParams.update({'font.sans-serif': 'Arial'})"
   ]
  },
  {
   "cell_type": "code",
   "execution_count": 3,
   "metadata": {},
   "outputs": [],
   "source": [
    "import radar\n",
    "\n",
    "GENOME = radar.MOUSE_FA_GENOME\n",
    "MART_CDS_EXPORT = \"/home/eerik/Downloads/genomics/musmusculus_CDS_mart_export.txt.gz\"\n",
    "MART_3UTR_EXPORT = \"/home/eerik/Downloads/genomics/UTR/musmusculus_mart_export.txt.gz\"\n",
    "PREFIX = \"mouse/\"\n",
    "ORGANISM = \"mouse\""
   ]
  },
  {
   "cell_type": "code",
   "execution_count": 4,
   "metadata": {},
   "outputs": [
    {
     "name": "stdout",
     "output_type": "stream",
     "text": [
      "834\n",
      "1227 2134 1209\n"
     ]
    }
   ],
   "source": [
    "by_gene_cds = radar.get_by_gene_from_mart_export(mart_export=MART_CDS_EXPORT)\n",
    "by_gene_3utr = radar.get_by_gene_from_mart_export(mart_export=MART_3UTR_EXPORT)\n",
    "\n",
    "all_genes = set(by_gene_cds) | set(by_gene_3utr)\n",
    "\n",
    "# remove entries with no CDS/3' UTR. keep miRNAs\n",
    "no_cds = [gene for gene in all_genes if len(by_gene_cds.get(gene, {})) == 0 and not gene.lower().startswith(\"mir\")]\n",
    "no_utr = [gene for gene in all_genes if len(by_gene_3utr.get(gene, {})) == 0 and not gene.lower().startswith(\"mir\")]\n",
    "# TODO snoRNAs?\n",
    "no_cds_no_3utr = set(no_cds) & set(no_utr)\n",
    "print(len(no_cds_no_3utr))\n",
    "for gene in no_cds:\n",
    "    if gene in by_gene_cds:\n",
    "        del by_gene_cds[gene]\n",
    "for gene in no_utr:\n",
    "    if gene in by_gene_3utr:\n",
    "        del by_gene_3utr[gene]\n",
    "all_genes = set(by_gene_cds) | set(by_gene_3utr)\n",
    "no_cds = [gene for gene in all_genes if len(by_gene_cds.get(gene, {})) == 0]\n",
    "no_utr = [gene for gene in all_genes if len(by_gene_3utr.get(gene, {})) == 0]\n",
    "no_cds_no_3utr = set(no_cds) & set(no_utr)\n",
    "print(len(no_cds), len(no_utr), len(no_cds_no_3utr))"
   ]
  },
  {
   "cell_type": "code",
   "execution_count": 5,
   "metadata": {},
   "outputs": [
    {
     "name": "stdout",
     "output_type": "stream",
     "text": [
      "0\t2436\t11.2%\n",
      "1\t5879\t27.1%\n",
      "2\t4971\t22.9%\n",
      "3\t3340\t15.4%\n",
      "4\t2139\t9.9%\n",
      "5\t1390\t6.4%\n",
      "6\t948\t4.4%\n",
      "7\t582\t2.7%\n",
      "8\t371\t1.7%\n",
      "9\t252\t1.2%\n",
      "10\t177\t0.8%\n",
      "\n",
      "4117 have >= 5 CDSs\n",
      "21655 genes in total\n",
      "19219 genes have CDS annotation\n",
      "11.2% of genes have no CDS annotation\n"
     ]
    }
   ],
   "source": [
    "tx_cts_cds = Counter([len(txs) for gene, txs in by_gene_cds.items()])\n",
    "tx_cts_cds[0] += len(no_cds)\n",
    "for num in range(11):\n",
    "    print(f\"{num}\\t{tx_cts_cds[num]}\\t{tx_cts_cds[num] / len(all_genes):.1%}\")\n",
    "print(\"\")\n",
    "print(f\"{sum([v for k, v in tx_cts_cds.items() if k >= 5])} have >= 5 CDSs\")\n",
    "print(f\"{len(by_gene_cds)} genes in total\")\n",
    "print(f\"{len(by_gene_cds) - tx_cts_cds[0]} genes have CDS annotation\")\n",
    "print(f\"{tx_cts_cds[0] / len(all_genes):.1%} of genes have no CDS annotation\")"
   ]
  },
  {
   "cell_type": "code",
   "execution_count": 6,
   "metadata": {},
   "outputs": [
    {
     "name": "stdout",
     "output_type": "stream",
     "text": [
      "0\t3258\t15.8%\n",
      "1\t6905\t33.4%\n",
      "2\t5191\t25.1%\n",
      "3\t3204\t15.5%\n",
      "4\t1865\t9.0%\n",
      "5\t976\t4.7%\n",
      "6\t575\t2.8%\n",
      "7\t323\t1.6%\n",
      "8\t190\t0.9%\n",
      "9\t105\t0.5%\n",
      "10\t63\t0.3%\n",
      "\n",
      "2374 have >= 5 3' UTRs\n",
      "20663 genes in total\n",
      "17405 genes have 3' UTR annotation\n",
      "15.8% of genes have no 3' UTR annotation\n"
     ]
    }
   ],
   "source": [
    "tx_cts_3utr = Counter([len(txs) for gene, txs in by_gene_3utr.items()])\n",
    "tx_cts_3utr[0] += len(no_utr)\n",
    "for num in range(11):\n",
    "    print(f\"{num}\\t{tx_cts_3utr[num]}\\t{tx_cts_3utr[num] / len(by_gene_3utr):.1%}\")\n",
    "print(\"\")\n",
    "print(f\"{sum([v for k, v in tx_cts_3utr.items() if k >= 5])} have >= 5 3' UTRs\")\n",
    "print(f\"{len(by_gene_3utr)} genes in total\")\n",
    "print(f\"{len(by_gene_3utr) - tx_cts_3utr[0]} genes have 3' UTR annotation\")\n",
    "print(f\"{tx_cts_3utr[0] / len(by_gene_3utr):.1%} of genes have no 3' UTR annotation\")"
   ]
  },
  {
   "cell_type": "code",
   "execution_count": 5,
   "metadata": {},
   "outputs": [
    {
     "name": "stdout",
     "output_type": "stream",
     "text": [
      "20663 21655\n",
      "20645 18 1010\n"
     ]
    }
   ],
   "source": [
    "utr_genes = set(by_gene_3utr.keys())\n",
    "cds_genes = set(by_gene_cds.keys())\n",
    "common = utr_genes & cds_genes\n",
    "utr_only = utr_genes - cds_genes\n",
    "cds_only = cds_genes - utr_genes\n",
    "print(len(utr_genes), len(cds_genes))\n",
    "print(len(common), len(utr_only), len(cds_only))"
   ]
  },
  {
   "cell_type": "code",
   "execution_count": 8,
   "metadata": {},
   "outputs": [],
   "source": [
    "# map gene names to list of (transcript id, transcript sequence)\n",
    "tx_seqs_3utr = dict((gene, [(entry.id.split(\"|\")[3], str(entry.seq)) for entry in entries.values()]) for gene, entries in by_gene_3utr.items())\n",
    "tx_seqs_cds  = dict((gene, [(entry.id.split(\"|\")[3], str(entry.seq)) for entry in entries.values()]) for gene, entries in by_gene_cds.items())"
   ]
  },
  {
   "cell_type": "markdown",
   "metadata": {},
   "source": [
    "# Analyzing gene sets"
   ]
  },
  {
   "cell_type": "code",
   "execution_count": 6,
   "metadata": {},
   "outputs": [],
   "source": [
    "def print_gene_prefixes(genes):\n",
    "    prefixes = []\n",
    "    for gene in genes:\n",
    "        m = re.search(r\"[A-Z]+\", gene.upper())\n",
    "        prefixes.append(m.group(0))\n",
    "    for prefix, count in Counter(prefixes).most_common(30):\n",
    "        print(f\"{prefix}\\t{count}\\t{count / len(genes):.1%}\")"
   ]
  },
  {
   "cell_type": "code",
   "execution_count": 9,
   "metadata": {},
   "outputs": [
    {
     "name": "stdout",
     "output_type": "stream",
     "text": [
      "IL\t4\t22.2%\n",
      "MPP\t2\t11.1%\n",
      "EPPK\t1\t5.6%\n",
      "SPATA\t1\t5.6%\n",
      "ARVCF\t1\t5.6%\n",
      "GALNT\t1\t5.6%\n",
      "CRAMP\t1\t5.6%\n",
      "GRRP\t1\t5.6%\n",
      "TUSC\t1\t5.6%\n",
      "RPS\t1\t5.6%\n",
      "MAP\t1\t5.6%\n",
      "ILTIFB\t1\t5.6%\n",
      "OIT\t1\t5.6%\n",
      "LIN\t1\t5.6%\n"
     ]
    },
    {
     "data": {
      "text/plain": [
       "'ARVCF Cramp1l EPPK1 Galnt2l Grrp1 Il1f5 Il1f6 Il1f8 Il1f9 Iltifb LIN54 Map11 Mpp5 Mpp6 Oit1 RPS6KA4 SPATA5L1 TUSC3'"
      ]
     },
     "execution_count": 9,
     "metadata": {},
     "output_type": "execute_result"
    }
   ],
   "source": [
    "no_cds = [gene for gene in all_genes if len(by_gene_cds.get(gene, {})) == 0]\n",
    "no_cds = [gene for gene in no_cds if not (gene.lower().startswith(\"mir\") or gene.lower().startswith(\"sno\"))]\n",
    "print_gene_prefixes(no_cds)\n",
    "\" \".join(sorted(no_cds))"
   ]
  },
  {
   "cell_type": "code",
   "execution_count": 10,
   "metadata": {},
   "outputs": [
    {
     "name": "stdout",
     "output_type": "stream",
     "text": [
      "IGHV\t113\t12.2%\n",
      "TRAV\t110\t11.9%\n",
      "IGKV\t100\t10.8%\n",
      "VMN\t87\t9.4%\n",
      "OLFR\t80\t8.6%\n",
      "TRAJ\t51\t5.5%\n",
      "H\t28\t3.0%\n",
      "TRBV\t22\t2.4%\n",
      "TAS\t21\t2.3%\n",
      "IGHD\t17\t1.8%\n",
      "TAAR\t14\t1.5%\n",
      "TRBJ\t13\t1.4%\n",
      "MT\t13\t1.4%\n",
      "EIF\t9\t1.0%\n",
      "IFNA\t9\t1.0%\n",
      "TRGV\t7\t0.8%\n",
      "ZFP\t7\t0.8%\n",
      "CYP\t7\t0.8%\n",
      "DEFB\t6\t0.6%\n",
      "AADACL\t6\t0.6%\n",
      "TRDV\t5\t0.5%\n",
      "TDPOZ\t5\t0.5%\n",
      "IL\t5\t0.5%\n",
      "IGKJ\t5\t0.5%\n",
      "IGLJ\t4\t0.4%\n",
      "MAGEB\t4\t0.4%\n",
      "FPR\t4\t0.4%\n",
      "CD\t4\t0.4%\n",
      "KRTAP\t4\t0.4%\n",
      "TRGJ\t4\t0.4%\n"
     ]
    },
    {
     "data": {
      "text/plain": [
       "'A26c2 AAdacl4fm3 Aadacl2fm2 Aadacl2fm3 Aadacl4 Aadacl4fm2 Aadacl4fm4 Ace3 Akp3 Amh Amy2a1 Ang6 Ankdd1a Ankrd65 Arvcf Ascl5 Bbln Becn2 Btbd35f29 Btbd35f4 Btbd35f6 Btg1b Btnl4 Btnl6 Calhm3 Carmil2 Casp16 Ccl26 Cd300ld2 Cd300ld3 Cd300ld4 Cd300ld5 Cdk3 Cdr1 Cfap73 Cfap99 Chrm4 Chrm5 Cldn24 Clec3a Cnbd1 Cramp1 Csta3 Ctag2l1 Cyp2d11 Cyp2j7 Cyp2j8 Cyp2w1 Cyp4a29 Cyp4a30b Cyp4a32 DPCD Dcdc2b Defa25 Defa38 Defb14 Defb18 Defb26 Defb34 Defb46 Defb5 Dnaaf9 Dnmt3c Ect2l Eif1ad10 Eif1ad11 Eif1ad12 Eif1ad13 Eif1ad14 Eif1ad16 Eif1ad17 Eif1ad18 Eif1ad4 Eppk1 Erfl Esp22 Esp5 Fam110d Fam122a Fam205a2 Fam3d Fan1 Fcrlb Flg2 Foxe3 Foxl3 Fpr-rs3 Fpr-rs4 Fpr-rs6 Fpr-rs7 Frem3 Fv1 Gjd3 Gpr142 Gpr25 H1f5 H2-M1 H2-M11 H2-Q5 H2ab1 H2ab2 H2ab3 H2ac1 H2ac13 H2ac15 H2ac21 H2ac22 H2al1c H2al1d H2al1f H2al1h H2al1i H2al1j H2al2b H2al2c H2bc1 H2bc13 H2bc15 H2bc18 H3c10 H3c11 H3f4 H4c12 Heatr4 Hsd3b8 Hsd3b9 Ifna1 Ifna11 Ifna14 Ifna15 Ifna4 Ifna5 Ifna6 Ifna7 Ifna9 Ifnl3 Ighd1-1 Ighd2-3 Ighd2-4 Ighd2-5 Ighd2-6 Ighd2-7 Ighd2-8 Ighd3-1 Ighd3-2 Ighd4-1 Ighd5-2 Ighd5-3 Ighd5-4 Ighd5-5 Ighd5-6 Ighd5-7 Ighd5-8 Ighj1 Ighj2 Ighj3 Ighj4 Ighv1-11 Ighv1-12 Ighv1-15 Ighv1-16 Ighv1-18 Ighv1-19 Ighv1-20 Ighv1-22 Ighv1-23 Ighv1-24 Ighv1-26 Ighv1-31 Ighv1-34 Ighv1-36 Ighv1-37 Ighv1-39 Ighv1-4 Ighv1-42 Ighv1-43 Ighv1-47 Ighv1-49 Ighv1-5 Ighv1-50 Ighv1-52 Ighv1-53 Ighv1-54 Ighv1-55 Ighv1-56 Ighv1-58 Ighv1-59 Ighv1-61 Ighv1-62-1 Ighv1-62-2 Ighv1-62-3 Ighv1-63 Ighv1-64 Ighv1-66 Ighv1-67 Ighv1-69 Ighv1-7 Ighv1-71 Ighv1-72 Ighv1-74 Ighv1-75 Ighv1-76 Ighv1-77 Ighv1-78 Ighv1-80 Ighv1-81 Ighv1-82 Ighv1-84 Ighv1-85 Ighv1-9 Ighv10-1 Ighv10-3 Ighv11-1 Ighv11-2 Ighv12-3 Ighv13-2 Ighv14-1 Ighv14-2 Ighv14-3 Ighv14-4 Ighv15-2 Ighv16-1 Ighv2-2 Ighv2-3 Ighv2-4 Ighv2-5 Ighv2-6 Ighv2-6-8 Ighv2-7 Ighv2-9 Ighv2-9-1 Ighv3-1 Ighv3-3 Ighv3-4 Ighv3-5 Ighv3-6 Ighv3-8 Ighv4-1 Ighv5-12 Ighv5-12-4 Ighv5-15 Ighv5-16 Ighv5-17 Ighv5-2 Ighv5-4 Ighv5-6 Ighv5-9 Ighv5-9-1 Ighv6-3 Ighv6-4 Ighv6-5 Ighv6-6 Ighv6-7 Ighv7-1 Ighv7-2 Ighv7-3 Ighv7-4 Ighv8-11 Ighv8-12 Ighv8-13 Ighv8-2 Ighv8-4 Ighv8-5 Ighv8-6 Ighv8-8 Ighv8-9 Ighv9-1 Ighv9-2 Ighv9-3 Ighv9-4 Igkj1 Igkj2 Igkj3 Igkj4 Igkj5 Igkv1-110 Igkv1-117 Igkv1-122 Igkv1-131 Igkv1-132 Igkv1-133 Igkv1-135 Igkv1-35 Igkv1-88 Igkv1-99 Igkv10-94 Igkv10-95 Igkv10-96 Igkv11-125 Igkv12-38 Igkv12-41 Igkv12-44 Igkv12-46 Igkv12-89 Igkv12-98 Igkv13-84 Igkv13-85 Igkv14-100 Igkv14-111 Igkv14-126 Igkv14-130 Igkv15-103 Igkv16-104 Igkv17-121 Igkv17-127 Igkv18-36 Igkv19-93 Igkv2-109 Igkv2-112 Igkv2-137 Igkv20-101-2 Igkv3-1 Igkv3-10 Igkv3-12 Igkv3-2 Igkv3-3 Igkv3-4 Igkv3-5 Igkv3-7 Igkv3-9 Igkv4-50 Igkv4-51 Igkv4-53 Igkv4-54 Igkv4-55 Igkv4-57 Igkv4-57-1 Igkv4-58 Igkv4-59 Igkv4-61 Igkv4-62 Igkv4-63 Igkv4-68 Igkv4-69 Igkv4-70 Igkv4-71 Igkv4-72 Igkv4-74 Igkv4-78 Igkv4-79 Igkv4-80 Igkv4-81 Igkv4-86 Igkv4-90 Igkv4-91 Igkv4-92 Igkv5-37 Igkv5-39 Igkv5-43 Igkv5-45 Igkv5-48 Igkv6-13 Igkv6-14 Igkv6-15 Igkv6-17 Igkv6-20 Igkv6-23 Igkv6-25 Igkv6-29 Igkv6-32 Igkv7-33 Igkv8-16 Igkv8-18 Igkv8-19 Igkv8-21 Igkv8-24 Igkv8-26 Igkv8-27 Igkv8-28 Igkv8-30 Igkv8-34 Igkv9-120 Igkv9-123 Igkv9-124 Igkv9-129 Iglc4 Iglj1 Iglj2 Iglj3 Iglj4 Iglv1 Iglv2 Iglv3 Il22b Il36a Il36b Il36g Il36rn Iqcf3 Kif19b Klhl34 Krt40 Krtap1-4 Krtap29-1 Krtap5-1 Krtap9-5 L3mbtl1 Ldlrad2 Lin54 Lnp1 Lpar5 Lrrc3c Magea3 Magea4 Mageb1 Mageb11 Mageb6b1 Mageb6b2 Moap1 Moxd2 Mroh6 Ms4a4a Mtrfr Muc19 Muc6 Naa12 Nkx1-1 Nlrp1a Nopchap1 Olfr1008 Olfr1022 Olfr1024 Olfr1040 Olfr1053 Olfr1061 Olfr1066 Olfr1076 Olfr1084 Olfr1095 Olfr1128 Olfr1133 Olfr1141 Olfr1145 Olfr1158 Olfr1230 Olfr1282 Olfr1287 Olfr1329 Olfr1337 Olfr1358 Olfr1371 Olfr1373 Olfr1375 Olfr1436 Olfr1453 Olfr1475 Olfr1502 Olfr159 Olfr26 Olfr262 Olfr275 Olfr284 Olfr294 Olfr304 Olfr331 Olfr340 Olfr345 Olfr356 Olfr382 Olfr474 Olfr485 Olfr486 Olfr492 Olfr493 Olfr494 Olfr503 Olfr507 Olfr514 Olfr519 Olfr547 Olfr555 Olfr564 Olfr568 Olfr574 Olfr583 Olfr589 Olfr593 Olfr603 Olfr631 Olfr663 Olfr664 Olfr688 Olfr74 Olfr746 Olfr761 Olfr768 Olfr773 Olfr779 Olfr834 Olfr850 Olfr854 Olfr883 Olfr885 Olfr891 Olfr908 Olfr915 Olfr917 Olfr936 Olfr993 Otud6a Ovol3 P3r3urf Pals1 Pals2 Pate10 Pate8 Pcdha10 Percc1 Phaf1 Pira1 Pira12 Pira13 Pkd1l2 Pkd1l3 Pramel15 Pramel18 Pramel19 Prss3 Prss59 Pspn Rad21l Rps6ka4 Rsc1a1 Rtl9 Rxfp4 S100a2 Sanbr Scart2 Scgb1b24 Scgb1b29 Scgb2b3 Sgo2b Siglec15 Slc25a43 Slc2a7 Snapc1l Snhg4 Snurf Spata5l1 Spopfm1 Sprr4 Sry Ssxa1 Ssxb6 Steep1 Sult3a2 Sycp2l Sytl5 Taar2 Taar3 Taar4 Taar5 Taar6 Taar7a Taar7b Taar7d Taar7e Taar7f Taar8a Taar8b Taar8c Taar9 Tas2r102 Tas2r103 Tas2r104 Tas2r106 Tas2r109 Tas2r110 Tas2r113 Tas2r114 Tas2r116 Tas2r118 Tas2r119 Tas2r120 Tas2r121 Tas2r122 Tas2r123 Tas2r124 Tas2r136 Tas2r138 Tas2r139 Tas2r143 Tas2r144 Tdpoz3 Tdpoz4 Tdpoz5 Tdpoz6 Tdpoz7 Tesl2 Tmdd1 Tmem247 Traj11 Traj12 Traj13 Traj15 Traj16 Traj17 Traj18 Traj19 Traj2 Traj20 Traj21 Traj22 Traj23 Traj24 Traj25 Traj26 Traj27 Traj28 Traj29 Traj3 Traj30 Traj31 Traj32 Traj33 Traj34 Traj35 Traj37 Traj38 Traj39 Traj4 Traj40 Traj41 Traj42 Traj43 Traj44 Traj45 Traj46 Traj47 Traj48 Traj49 Traj5 Traj50 Traj52 Traj53 Traj56 Traj57 Traj58 Traj59 Traj6 Traj7 Traj9 Trappc14 Trav1 Trav10 Trav10d Trav10n Trav11 Trav11d Trav12-1 Trav12-2 Trav12-3 Trav12d-1 Trav12d-2 Trav12d-3 Trav12n-1 Trav12n-2 Trav12n-3 Trav13-1 Trav13-2 Trav13-4-dv7 Trav13-5 Trav13d-1 Trav13d-2 Trav13d-3 Trav13d-4 Trav13n-1 Trav13n-2 Trav13n-3 Trav13n-4 Trav14-1 Trav14-2 Trav14-3 Trav14d-1 Trav14d-2 Trav14d-3-dv8 Trav14n-1 Trav14n-2 Trav14n-3 Trav15-1-dv6-1 Trav15-2-dv6-2 Trav15d-1-dv6d-1 Trav15d-2-dv6d-2 Trav15n-1 Trav15n-2 Trav16 Trav16d-dv11 Trav16n Trav17 Trav18 Trav19 Trav2 Trav21-dv12 Trav23 Trav3-1 Trav3-3 Trav3-4 Trav3d-3 Trav3n-3 Trav4-2 Trav4-3 Trav4-4-dv10 Trav4d-3 Trav4d-4 Trav4n-3 Trav4n-4 Trav5-1 Trav5-4 Trav5d-4 Trav5n-4 Trav6-1 Trav6-2 Trav6-3 Trav6-4 Trav6-5 Trav6-6 Trav6-7-dv9 Trav6d-3 Trav6d-4 Trav6d-5 Trav6d-6 Trav6d-7 Trav6n-5 Trav6n-6 Trav6n-7 Trav7-1 Trav7-2 Trav7-3 Trav7-4 Trav7-5 Trav7-6 Trav7d-2 Trav7d-3 Trav7d-4 Trav7d-5 Trav7d-6 Trav7n-4 Trav7n-5 Trav7n-6 Trav8-1 Trav8d-1 Trav8d-2 Trav8n-2 Trav9-1 Trav9-2 Trav9-4 Trav9d-1 Trav9d-2 Trav9d-3 Trav9d-4 Trav9n-2 Trav9n-3 Trav9n-4 Trbd1 Trbd2 Trbj1-1 Trbj1-2 Trbj1-3 Trbj1-4 Trbj1-5 Trbj1-6 Trbj1-7 Trbj2-1 Trbj2-2 Trbj2-3 Trbj2-4 Trbj2-5 Trbj2-7 Trbv1 Trbv12-1 Trbv12-2 Trbv13-1 Trbv13-2 Trbv13-3 Trbv14 Trbv15 Trbv16 Trbv17 Trbv19 Trbv2 Trbv20 Trbv21 Trbv23 Trbv26 Trbv29 Trbv3 Trbv30 Trbv31 Trbv4 Trbv5 Trdd1 Trdd2 Trdj1 Trdj2 Trdv1 Trdv2-1 Trdv2-2 Trdv4 Trdv5 Trgj1 Trgj2 Trgj3 Trgj4 Trgv1 Trgv2 Trgv3 Trgv4 Trgv5 Trgv6 Trgv7 Trim30c Tubb1 Tusc3 Vax1 Vinac1 Vmn1r100 Vmn1r101 Vmn1r103 Vmn1r104 Vmn1r107 Vmn1r111 Vmn1r112 Vmn1r113 Vmn1r114 Vmn1r115 Vmn1r116 Vmn1r117 Vmn1r118 Vmn1r119 Vmn1r120 Vmn1r121 Vmn1r122 Vmn1r123 Vmn1r124 Vmn1r125 Vmn1r126 Vmn1r127 Vmn1r128 Vmn1r129 Vmn1r130 Vmn1r131 Vmn1r132 Vmn1r135 Vmn1r137 Vmn1r138 Vmn1r142 Vmn1r143 Vmn1r148 Vmn1r149 Vmn1r151 Vmn1r152 Vmn1r155 Vmn1r157 Vmn1r158 Vmn1r159 Vmn1r160 Vmn1r163 Vmn1r165 Vmn1r166 Vmn1r170 Vmn1r177 Vmn1r186 Vmn1r194 Vmn1r238 Vmn1r240 Vmn1r241 Vmn1r242 Vmn1r243 Vmn1r244 Vmn1r245 Vmn1r246 Vmn1r247 Vmn1r248 Vmn1r249 Vmn1r250 Vmn1r251 Vmn1r252 Vmn1r253 Vmn1r254 Vmn1r255 Vmn1r256 Vmn1r257 Vmn1r259 Vmn1r260 Vmn1r48 Vmn1r59 Vmn1r64 Vmn1r93 Vmn1r94 Vmn1r95 Vmn2r101 Vmn2r103 Vmn2r128 Vmn2r19 Vmn2r21 Vmn2r22 Vmn2r33 Vmn2r35 Vmn2r48 Vmn2r49 Vmn2r55 Vmn2r61 Wdr49 Zbed6 Zfp969 Zfp976 Zfp977 Zfp978 Zfp986 Zfp989 Zfp993 Zfta mt-Atp6 mt-Atp8 mt-Co1 mt-Co2 mt-Co3 mt-Cytb mt-Nd1 mt-Nd2 mt-Nd3 mt-Nd4 mt-Nd4l mt-Nd5 mt-Nd6'"
      ]
     },
     "execution_count": 10,
     "metadata": {},
     "output_type": "execute_result"
    }
   ],
   "source": [
    "no_utr = [gene for gene in all_genes if len(by_gene_3utr.get(gene, {})) == 0]\n",
    "no_utr = [gene for gene in no_utr if not (gene.lower().startswith(\"mir\") or gene.lower().startswith(\"sno\"))]\n",
    "print_gene_prefixes(no_utr)\n",
    "\" \".join(sorted(no_utr))"
   ]
  },
  {
   "cell_type": "code",
   "execution_count": 11,
   "metadata": {},
   "outputs": [
    {
     "data": {
      "text/plain": [
       "0"
      ]
     },
     "execution_count": 11,
     "metadata": {},
     "output_type": "execute_result"
    }
   ],
   "source": [
    "no_cds_no_utr = set(no_cds) & set(no_utr)  # miRNAs ignored here\n",
    "len(no_cds_no_utr)"
   ]
  },
  {
   "cell_type": "markdown",
   "metadata": {},
   "source": [
    "# Functions"
   ]
  },
  {
   "cell_type": "code",
   "execution_count": 7,
   "metadata": {},
   "outputs": [
    {
     "name": "stdout",
     "output_type": "stream",
     "text": [
      "('CCA', 90, 'CDS')\n",
      "('CCA', 90, '3UTR')\n",
      "('CCA', 72, 'CDS')\n",
      "('CCA', 72, '3UTR')\n",
      "('CCA', 36, 'CDS')\n",
      "('CCA', 36, '3UTR')\n",
      "('TCA', 90, 'CDS')\n",
      "('TCA', 90, '3UTR')\n",
      "('TCA', 72, 'CDS')\n",
      "('TCA', 72, '3UTR')\n",
      "('TCA', 36, 'CDS')\n",
      "('TCA', 36, '3UTR')\n",
      "('GCA', 90, 'CDS')\n",
      "('GCA', 90, '3UTR')\n",
      "('GCA', 72, 'CDS')\n",
      "('GCA', 72, '3UTR')\n",
      "('GCA', 36, 'CDS')\n",
      "('GCA', 36, '3UTR')\n",
      "('CAA', 90, 'CDS')\n",
      "('CAA', 90, '3UTR')\n",
      "('CAA', 72, 'CDS')\n",
      "('CAA', 72, '3UTR')\n",
      "('CAA', 36, 'CDS')\n",
      "('CAA', 36, '3UTR')\n",
      "('NNN', 54, '3UTR')\n"
     ]
    }
   ],
   "source": [
    "confs = []\n",
    "for variant in \"CCA\", \"TCA\", \"GCA\", \"CAA\":\n",
    "    for length in 90, 72, 36:\n",
    "        confs.append((variant, length, \"CDS\"))\n",
    "        confs.append((variant, length, \"3UTR\"))\n",
    "confs.append((\"NNN\", 54, \"3UTR\"))\n",
    "for conf in confs:\n",
    "    print(conf)"
   ]
  },
  {
   "cell_type": "code",
   "execution_count": 26,
   "metadata": {},
   "outputs": [],
   "source": [
    "def combine_candidates(list_of_candidates_by_gene, by_gene):\n",
    "    candidates_by_gene = defaultdict(list)\n",
    "    seen_candidates = set()\n",
    "    for this_candidates_by_gene in list_of_candidates_by_gene:\n",
    "        for gene, candidates in this_candidates_by_gene.items():\n",
    "            if gene not in by_gene:\n",
    "                continue\n",
    "            if gene.lower().startswith(\"mir\"):  # ignore miRNAs even if there are candidates\n",
    "                continue\n",
    "            for c in candidates:\n",
    "                if not c[\"bad_blast\"] and c[\"candidate\"] not in seen_candidates:\n",
    "                    candidates_by_gene[gene].append(c)\n",
    "                    seen_candidates.add(c[\"candidate\"])\n",
    "    return candidates_by_gene\n",
    "\n",
    "MIRNA_NUM   =  999999\n",
    "NO_3UTR_NUM = 9999999\n",
    "\n",
    "\n",
    "def analyze_candidates_by_gene(by_gene_cds, candidates_by_gene, fname, utr_genes=None, exclude_non3utrs=True, verbose=True):\n",
    "    n_genes = len(by_gene_cds)\n",
    "    count_set = set(by_gene_cds.keys())\n",
    "    mirs = set(gene for gene in by_gene_cds.keys() if gene.lower().startswith(\"mir\"))\n",
    "    if exclude_non3utrs:\n",
    "        assert utr_genes is not None\n",
    "        count_set &= set(utr_genes)\n",
    "    count_set -= mirs  # don't count miRNAs\n",
    "    n_utr_genes = len(count_set)\n",
    "    cts = Counter([\n",
    "        len([c for c in candidates if not c[\"bad_blast\"]])\n",
    "        for gene, candidates in candidates_by_gene.items()\n",
    "        if gene in count_set\n",
    "    ])\n",
    "    cts[MIRNA_NUM] = len(mirs)\n",
    "    cts[NO_3UTR_NUM] = 0\n",
    "    if exclude_non3utrs:\n",
    "        cts[NO_3UTR_NUM] = n_genes - n_utr_genes\n",
    "    cts[0] = n_0 = n_genes - (sum(cts.values()) - cts[0])\n",
    "    df = pd.DataFrame({\"num\": cts.keys(), \"ct\": cts.values()})\n",
    "    df = df.sort_values(\"num\").reset_index(drop=True)\n",
    "    df[\"frac_all_genes\"] = df[\"ct\"] / n_genes\n",
    "    df[\"frac_genes_with_utr\"] = df[\"ct\"] / n_utr_genes\n",
    "    df.loc[df.shape[0] - 2, \"frac_genes_with_utr\"] = 0  # miRNAs\n",
    "    df.loc[df.shape[0] - 1, \"frac_genes_with_utr\"] = 0  # no 3' UTR\n",
    "    df.loc[0, \"frac_genes_with_utr\"] = 1 - df.frac_genes_with_utr.iloc[1:].sum()\n",
    "    \n",
    "    n_one_plus = df[(df.num >= 1) & (df.num < MIRNA_NUM)].ct.sum()\n",
    "    n_five_plus = df[(df.num >= 5) & (df.num < MIRNA_NUM)].ct.sum()\n",
    "    if verbose:\n",
    "        assert df.iloc[0].num == 0\n",
    "        print(f\"{df.iloc[-2].ct} == {len(mirs)} miRNAs are {len(mirs) / n_genes:.1%} of the dataset\")\n",
    "        print(\n",
    "            f\"{n_0} with 0 candidates ({df.iloc[0].frac_all_genes:.1%}) of all genes, \"\n",
    "            f\"{df.iloc[0].frac_genes_with_utr:.1%} of genes with annotated 3' UTRs)\"\n",
    "        )\n",
    "        print(\n",
    "            f\"{n_one_plus} with 1+ candidates ({n_one_plus / n_genes:.1%} of all genes, \"\n",
    "            f\"{n_one_plus / n_utr_genes:.1%} of genes with annotated 3' UTRs)\"\n",
    "        )\n",
    "        print(\n",
    "            f\"{n_five_plus} have >= 5 candidates ({n_five_plus / n_genes:.1%} of all genes, \"\n",
    "            f\"{n_five_plus / n_utr_genes:.1%} of genes with annotated 3' UTRs)\"\n",
    "        )\n",
    "    if verbose:\n",
    "        print(df.head(11))\n",
    "        print(df.tail(3))\n",
    "    df.to_csv(fname, index=False)\n",
    "    return df\n",
    "\n",
    "\n",
    "def write_candidates_by_gene(candidates_by_gene, fname):\n",
    "    serialized = {}\n",
    "    for gene, candidates in candidates_by_gene.items():\n",
    "        serialized[gene] = []\n",
    "        for candidate in candidates:\n",
    "            candidate = candidate.copy()\n",
    "            candidate[\"blast_results\"] = \"\" # candidate[\"blast_results\"].to_csv(index=False)\n",
    "            candidate[\"bad_blast\"] = bool(candidate[\"bad_blast\"])\n",
    "            serialized[gene].append(candidate)\n",
    "    with gzip.open(fname, \"wt\", encoding=\"UTF-8\") as fp:\n",
    "        json.dump(serialized, fp, indent=True)\n",
    "\n",
    "\n",
    "def read_candidates_by_gene(json_fname, blast_fname=None):\n",
    "    with gzip.open(json_fname) as fp:\n",
    "        candidates_by_gene = json.load(fp)\n",
    "    if blast_fname is not None:\n",
    "        try:\n",
    "            df = pd.read_csv(blast_fname)\n",
    "        except pd.errors.ParserError as e:\n",
    "            print(blast_fname, \"couldn't be loaded\")\n",
    "            raise e\n",
    "        gb = df.groupby(\"seq\")\n",
    "        for gene, candidates in candidates_by_gene.items():\n",
    "            for candidate in candidates:\n",
    "                candidate[\"blast_results\"] = gb.get_group(candidate[\"sensor\"])\n",
    "    return candidates_by_gene\n",
    "\n",
    "\n",
    "def annotate_transcripts_covered(candidates_by_gene):\n",
    "    for gene, candidates in candidates_by_gene.items():\n",
    "        for candidate in candidates:\n",
    "            candidate[\"matches\"] = set()\n",
    "            tx_seqs = tx_seqs_3utr.get(gene, [])\n",
    "            if candidate[\"region_type\"].startswith(\"CDS\"):\n",
    "                tx_seqs = tx_seqs_cds.get(gene, [])\n",
    "            for seq_id, seq in tx_seqs:\n",
    "                if candidate[\"candidate\"] in seq:\n",
    "                    candidate[\"matches\"].add(seq_id)\n",
    "            candidate[\"matches\"] = sorted(candidate[\"matches\"])\n",
    "\n",
    "\n",
    "left_right = {\n",
    "    36: (18, 15),\n",
    "    54: (24, 27),\n",
    "    72: (33, 36),\n",
    "    90: (42, 45),\n",
    "}\n",
    "\n",
    "\n",
    "def analyze_variant_and_length(variant, length, by_gene, verbose=True, threads=12, prefix=\"\", suffix=\"\", tx_cts=None, max_candidates_rand=None, force=False):\n",
    "    blast_fname = f\"{prefix}{variant}_{length}_candidates_by_gene{suffix}.csv.gz\"\n",
    "    if not force and os.path.isfile(blast_fname):\n",
    "        # print(f\"skipping because {blast_fname} exists\")\n",
    "        return\n",
    "    res = {}\n",
    "    left, right = left_right[length]\n",
    "    if verbose:\n",
    "        print(variant, length, left + right + 3)\n",
    "    res[\"by_gene\"], res[\"candidates_by_gene\"], res[\"blast_results\"] = radar.look_at_all_mart_genes(\n",
    "        by_gene=by_gene, variants=(variant,), left=left, right=right, min_match=25,\n",
    "        verbose=verbose, threads=threads, max_candidates_rand=max_candidates_rand,\n",
    "    )\n",
    "    res[\"candidates_by_gene\"] = combine_candidates([res[\"candidates_by_gene\"]], by_gene)  # to apply blast filter\n",
    "    write_candidates_by_gene(res[\"candidates_by_gene\"], f\"{prefix}{variant}_{length}_candidates_by_gene{suffix}.json.gz\")\n",
    "    res[\"blast_results\"].to_csv(blast_fname + \".tmp.csv.gz\", index=False)\n",
    "    os.rename(blast_fname + \".tmp.csv.gz\", blast_fname)\n",
    "\n",
    "\n",
    "def process_split_cbg(core_candidates_by_gene, nnn_candidates_by_gene, length, region_type):\n",
    "    cbg = {}\n",
    "    random.seed(42)\n",
    "    for gene, candidates in core_candidates_by_gene.items():\n",
    "        nnns = nnn_candidates_by_gene.get(gene, [])\n",
    "        nnns_by_seq_id = defaultdict(list)\n",
    "        for nnn in nnns:\n",
    "            for seq_id in nnn[\"matches\"]:\n",
    "                nnns_by_seq_id[seq_id].append(nnn)\n",
    "        if not len(nnns):\n",
    "            continue\n",
    "        new_candidates = []\n",
    "        for this_candidate in candidates:\n",
    "            have_seqs = set()\n",
    "            for seq_id in this_candidate[\"matches\"]:  # consider all transcript versions this candidate is on\n",
    "                if nnns_by_seq_id[seq_id]:\n",
    "                    candidate = this_candidate.copy()\n",
    "                    nnn = random.choice(nnns_by_seq_id[seq_id])  # pick random NNN partner to pair with that's on the same transcript\n",
    "                    # CDS-3UTR means the core is in the CDS, with the rest (nnn) in the 3' UTR.\n",
    "                    # we don't consider 3UTR-CDS, but could in theory. the core would be in the 3' UTR and the rest in the CDS\n",
    "                    # 3UTR-3UTR means both the core and the rest are in the 3' UTR.\n",
    "                    # if our sensor is core + nnn, then the candidate should be nnn + core on the transcript.\n",
    "                    #   this works for 3UTR-3UTR (core + nnn), provided nnn is before core in the transcript\n",
    "                    #   this works for 3UTR-CDS (core + nnn)\n",
    "                    # if it's instead nnn + core, then the candidate should be core + nnn\n",
    "                    #   this works for CDS-3UTR if we don't want a pretzel\n",
    "                    #   this does not work for 3UTR-CDS\n",
    "                    #   this works for 3UTR-3UTR, provided that the nnn is after the core\n",
    "                    if region_type == \"3UTR-3UTR\":\n",
    "                        # make sure that the nnn partner is after the core in the transcript.\n",
    "                        # the start and end keys are for the candidate trigger sequence.\n",
    "                        if nnn[\"start\"] < candidate[\"end\"]:\n",
    "                            continue\n",
    "                    candidate[\"sensor\"] = nnn[\"sensor\"] + candidate[\"sensor\"]\n",
    "                    if candidate[\"sensor\"] in have_seqs:\n",
    "                        continue\n",
    "                    have_seqs.add(candidate[\"sensor\"])\n",
    "                    candidate[\"candidate\"] = candidate[\"candidate\"] + \"...\" + nnn[\"candidate\"]\n",
    "                    candidate[\"length\"] = length\n",
    "                    candidate[\"region_type\"] = region_type\n",
    "                    candidate[\"matches\"] = sorted(set(candidate[\"matches\"]) & set(nnn[\"matches\"]))\n",
    "                    candidate[\"longest_homopolymer\"], candidate[\"total_homopolymer\"] = radar.eval_for_homopolymers(candidate[\"sensor\"])\n",
    "                    nt_counts = Counter(candidate[\"sensor\"])\n",
    "                    candidate[\"GC\"] = round((nt_counts[\"G\"] + nt_counts[\"C\"]) / len(candidate[\"sensor\"]), 2)\n",
    "                    new_candidates.append(candidate)\n",
    "                    if len(new_candidates) == 5:  # arbitrary limit to stop this from blowing up\n",
    "                        break\n",
    "        if len(new_candidates):\n",
    "            cbg[gene] = new_candidates\n",
    "    random.seed(None)\n",
    "    return cbg\n",
    "\n",
    "\n",
    "def write_candidate_table(candidates_by_gene, fname):\n",
    "    rows = []\n",
    "    for gene, candidates in candidates_by_gene.items():\n",
    "        for candidate in candidates:\n",
    "            row = {}\n",
    "            for k in (\n",
    "                \"gene\", \"gene_id\", \"variant\", \"length\", \"region_type\", \"sensor\", \"candidate\",\n",
    "                \"sensor_tln\", \"GC\", \"longest_homopolymer\", \"total_homopolymer\",\n",
    "            ):\n",
    "                row[k] = candidate[k]\n",
    "            row[\"matches\"] = \";\".join(candidate[\"matches\"])\n",
    "            rows.append(row)\n",
    "    df = pd.DataFrame(rows)\n",
    "    df.sort_values(\n",
    "        [\"gene\", \"length\", \"region_type\", \"variant\", \"GC\"],\n",
    "        ascending=[True, False, True, False, False], inplace=True,\n",
    "    )\n",
    "    print(f\"writing {df.shape[0]} candidates\")\n",
    "    print(df.gene.nunique(), \"unique genes\")\n",
    "    df.to_csv(fname, index=False)\n",
    "\n",
    "\n",
    "def draw_pie(ax, df, top=5, start=1, label_size=15, field=\"frac_genes_with_utr\"):\n",
    "    groups = []\n",
    "    for i in range(top):\n",
    "        groups.append(f\"{i}-{i}\")\n",
    "    groups.append(f\"{i + 1}-inf\")\n",
    "    return draw_pie_grouped(ax, df, groups=groups, label_size=label_size, field=field)\n",
    "\n",
    "\n",
    "def draw_pie_grouped(ax, df, groups=(\"0-0\", \"1-1\", \"2-5\", \"6-10\", \"11-inf\"), label_size=15, field=\"frac_genes_with_utr\"):\n",
    "    labels, yy = [], []\n",
    "    for g in groups:\n",
    "        left, right = map(float, g.split(\"-\"))\n",
    "        label = g\n",
    "        if left == right:\n",
    "            label = f\"{left:.0f}\"\n",
    "        if right == float(\"inf\"):\n",
    "            label = f\"{left:.0f}+\"\n",
    "        labels.append(label)\n",
    "        yy.append(df[(df.num >= left) & (df.num <= right) & (df.num < MIRNA_NUM)][field].sum())\n",
    "    cycler = plt.rcParams[\"axes.prop_cycle\"]()\n",
    "    colors = [next(cycler)[\"color\"] for _ in range(len(labels))]\n",
    "    if field != \"frac_genes_with_utr\":\n",
    "        y = df[df.num == MIRNA_NUM][field].sum()\n",
    "        labels.append(\"miRNAs\")\n",
    "        yy.append(y)\n",
    "        colors.append(\"white\")\n",
    "        \n",
    "        y = df[df.num == NO_3UTR_NUM][field].sum()\n",
    "        if y:\n",
    "            labels.append(\"Without\\n3' UTR\")\n",
    "            yy.append(y)\n",
    "            colors.append(\"#eeeeee\")\n",
    "    print(labels, yy, sum(yy))\n",
    "    patches, texts, autotexts = ax.pie(\n",
    "        yy, labels=labels, autopct=\"%.1f\", pctdistance=0.7, counterclock=False, colors=colors,\n",
    "        startangle=180, textprops=dict(fontsize=label_size), labeldistance=1.15, normalize=False,\n",
    "    )\n",
    "    for t in texts:\n",
    "        t.set_fontsize(label_size)\n",
    "    return patches, texts, autotexts"
   ]
  },
  {
   "cell_type": "markdown",
   "metadata": {},
   "source": [
    "# Generating data"
   ]
  },
  {
   "cell_type": "code",
   "execution_count": 17,
   "metadata": {},
   "outputs": [
    {
     "name": "stderr",
     "output_type": "stream",
     "text": [
      "100%|██████████| 10850/10850 [00:13<00:00, 790.12it/s]\n"
     ]
    }
   ],
   "source": [
    "# generating sensors in chunks of genes for given designs\n",
    "n = 50  # genes per chunk\n",
    "threads = 10  # chunks in parallel\n",
    "\n",
    "by_gene_chunks = []\n",
    "prng = np.random.RandomState(42)\n",
    "genes = sorted(by_gene_cds)[::-1]\n",
    "prng.shuffle(genes)\n",
    "for variant, length, seq_type in confs:\n",
    "    for i in range(0, len(genes), n):\n",
    "        this_genes = genes[i:i + n]\n",
    "        this_by_gene = {}\n",
    "        for gene in this_genes:\n",
    "            this_by_gene[gene] = by_gene_cds[gene] if seq_type == \"CDS\" else by_gene_3utr.get(gene, {})\n",
    "        by_gene_chunks.append((i, this_by_gene, variant, length, seq_type))\n",
    "\n",
    "\n",
    "def analyze(by_gene_chunk):\n",
    "    i, this_by_gene, variant, length, seq_type = by_gene_chunk\n",
    "    if seq_type == \"CDS\":\n",
    "        prefix = PREFIX + \"CDS/CDS_\"\n",
    "    else:\n",
    "        prefix = PREFIX\n",
    "    analyze_variant_and_length(\n",
    "        variant, length, by_gene=this_by_gene, verbose=False, threads=1,\n",
    "        tx_cts=tx_cts_cds if seq_type == \"CDS\" else tx_cts_3utr,\n",
    "        max_candidates_rand=100 if variant == \"NNN\" else None,\n",
    "        prefix=prefix, suffix=f\"_chunk_{i}_{i + n}\",\n",
    "    )\n",
    "\n",
    "\n",
    "with multiprocessing.Pool(threads) as p:\n",
    "    list(tqdm.tqdm(p.imap(analyze, by_gene_chunks), total=len(by_gene_chunks), leave=True))"
   ]
  },
  {
   "cell_type": "code",
   "execution_count": 22,
   "metadata": {},
   "outputs": [
    {
     "name": "stderr",
     "output_type": "stream",
     "text": [
      "100%|██████████| 434/434 [00:36<00:00, 11.86it/s]\n",
      "  1%|          | 3/434 [00:00<00:19, 21.69it/s]"
     ]
    },
    {
     "name": "stdout",
     "output_type": "stream",
     "text": [
      "CCA 90 CDS\n"
     ]
    },
    {
     "name": "stderr",
     "output_type": "stream",
     "text": [
      "100%|██████████| 434/434 [00:18<00:00, 23.60it/s]\n",
      "  0%|          | 1/434 [00:00<00:54,  7.91it/s]"
     ]
    },
    {
     "name": "stdout",
     "output_type": "stream",
     "text": [
      "CCA 90 3UTR\n"
     ]
    },
    {
     "name": "stderr",
     "output_type": "stream",
     "text": [
      "100%|██████████| 434/434 [00:48<00:00,  8.97it/s]\n",
      "  0%|          | 2/434 [00:00<00:28, 15.27it/s]"
     ]
    },
    {
     "name": "stdout",
     "output_type": "stream",
     "text": [
      "CCA 72 CDS\n"
     ]
    },
    {
     "name": "stderr",
     "output_type": "stream",
     "text": [
      "100%|██████████| 434/434 [00:32<00:00, 13.40it/s]\n",
      "  0%|          | 0/434 [00:00<?, ?it/s]"
     ]
    },
    {
     "name": "stdout",
     "output_type": "stream",
     "text": [
      "CCA 72 3UTR\n"
     ]
    },
    {
     "name": "stderr",
     "output_type": "stream",
     "text": [
      "100%|██████████| 434/434 [01:36<00:00,  4.49it/s]\n",
      "  0%|          | 1/434 [00:00<01:03,  6.86it/s]"
     ]
    },
    {
     "name": "stdout",
     "output_type": "stream",
     "text": [
      "CCA 36 CDS\n"
     ]
    },
    {
     "name": "stderr",
     "output_type": "stream",
     "text": [
      "100%|██████████| 434/434 [01:03<00:00,  6.87it/s]\n",
      "  0%|          | 2/434 [00:00<00:22, 19.08it/s]"
     ]
    },
    {
     "name": "stdout",
     "output_type": "stream",
     "text": [
      "CCA 36 3UTR\n"
     ]
    },
    {
     "name": "stderr",
     "output_type": "stream",
     "text": [
      "100%|██████████| 434/434 [00:27<00:00, 15.96it/s]\n",
      "  1%|          | 4/434 [00:00<00:13, 32.00it/s]"
     ]
    },
    {
     "name": "stdout",
     "output_type": "stream",
     "text": [
      "TCA 90 CDS\n"
     ]
    },
    {
     "name": "stderr",
     "output_type": "stream",
     "text": [
      "100%|██████████| 434/434 [00:15<00:00, 28.53it/s]\n",
      "  0%|          | 2/434 [00:00<00:28, 15.13it/s]"
     ]
    },
    {
     "name": "stdout",
     "output_type": "stream",
     "text": [
      "TCA 90 3UTR\n"
     ]
    },
    {
     "name": "stderr",
     "output_type": "stream",
     "text": [
      "100%|██████████| 434/434 [00:38<00:00, 11.24it/s]\n",
      "  1%|          | 3/434 [00:00<00:15, 27.48it/s]"
     ]
    },
    {
     "name": "stdout",
     "output_type": "stream",
     "text": [
      "TCA 72 CDS\n"
     ]
    },
    {
     "name": "stderr",
     "output_type": "stream",
     "text": [
      "100%|██████████| 434/434 [00:24<00:00, 17.79it/s]\n",
      "  0%|          | 1/434 [00:00<01:07,  6.42it/s]"
     ]
    },
    {
     "name": "stdout",
     "output_type": "stream",
     "text": [
      "TCA 72 3UTR\n"
     ]
    },
    {
     "name": "stderr",
     "output_type": "stream",
     "text": [
      "100%|██████████| 434/434 [01:09<00:00,  6.22it/s]\n",
      "  0%|          | 0/434 [00:00<?, ?it/s]"
     ]
    },
    {
     "name": "stdout",
     "output_type": "stream",
     "text": [
      "TCA 36 CDS\n"
     ]
    },
    {
     "name": "stderr",
     "output_type": "stream",
     "text": [
      "100%|██████████| 434/434 [00:39<00:00, 11.05it/s]\n",
      "  0%|          | 2/434 [00:00<00:27, 15.56it/s]"
     ]
    },
    {
     "name": "stdout",
     "output_type": "stream",
     "text": [
      "TCA 36 3UTR\n"
     ]
    },
    {
     "name": "stderr",
     "output_type": "stream",
     "text": [
      "100%|██████████| 434/434 [00:29<00:00, 14.68it/s]\n",
      "  1%|          | 4/434 [00:00<00:15, 27.03it/s]"
     ]
    },
    {
     "name": "stdout",
     "output_type": "stream",
     "text": [
      "GCA 90 CDS\n"
     ]
    },
    {
     "name": "stderr",
     "output_type": "stream",
     "text": [
      "100%|██████████| 434/434 [00:17<00:00, 24.76it/s]\n",
      "  0%|          | 2/434 [00:00<00:32, 13.32it/s]"
     ]
    },
    {
     "name": "stdout",
     "output_type": "stream",
     "text": [
      "GCA 90 3UTR\n"
     ]
    },
    {
     "name": "stderr",
     "output_type": "stream",
     "text": [
      "100%|██████████| 434/434 [00:38<00:00, 11.27it/s]\n",
      "  0%|          | 2/434 [00:00<00:24, 17.41it/s]"
     ]
    },
    {
     "name": "stdout",
     "output_type": "stream",
     "text": [
      "GCA 72 CDS\n"
     ]
    },
    {
     "name": "stderr",
     "output_type": "stream",
     "text": [
      "100%|██████████| 434/434 [00:28<00:00, 15.41it/s]\n",
      "  0%|          | 1/434 [00:00<00:44,  9.64it/s]"
     ]
    },
    {
     "name": "stdout",
     "output_type": "stream",
     "text": [
      "GCA 72 3UTR\n"
     ]
    },
    {
     "name": "stderr",
     "output_type": "stream",
     "text": [
      "100%|██████████| 434/434 [01:09<00:00,  6.29it/s]\n",
      "  0%|          | 1/434 [00:00<00:46,  9.31it/s]"
     ]
    },
    {
     "name": "stdout",
     "output_type": "stream",
     "text": [
      "GCA 36 CDS\n"
     ]
    },
    {
     "name": "stderr",
     "output_type": "stream",
     "text": [
      "100%|██████████| 434/434 [00:42<00:00, 10.16it/s]\n",
      "  0%|          | 2/434 [00:00<00:28, 15.25it/s]"
     ]
    },
    {
     "name": "stdout",
     "output_type": "stream",
     "text": [
      "GCA 36 3UTR\n"
     ]
    },
    {
     "name": "stderr",
     "output_type": "stream",
     "text": [
      "100%|██████████| 434/434 [00:31<00:00, 13.70it/s]\n",
      "  0%|          | 2/434 [00:00<00:23, 18.09it/s]"
     ]
    },
    {
     "name": "stdout",
     "output_type": "stream",
     "text": [
      "CAA 90 CDS\n"
     ]
    },
    {
     "name": "stderr",
     "output_type": "stream",
     "text": [
      "100%|██████████| 434/434 [00:36<00:00, 11.94it/s]\n",
      "  0%|          | 1/434 [00:00<00:54,  7.98it/s]"
     ]
    },
    {
     "name": "stdout",
     "output_type": "stream",
     "text": [
      "CAA 90 3UTR\n"
     ]
    },
    {
     "name": "stderr",
     "output_type": "stream",
     "text": [
      "100%|██████████| 434/434 [01:27<00:00,  4.97it/s]\n",
      "  0%|          | 2/434 [00:00<00:29, 14.82it/s]"
     ]
    },
    {
     "name": "stdout",
     "output_type": "stream",
     "text": [
      "CAA 72 CDS\n"
     ]
    },
    {
     "name": "stderr",
     "output_type": "stream",
     "text": [
      "100%|██████████| 434/434 [00:39<00:00, 11.02it/s]\n",
      "  0%|          | 0/434 [00:00<?, ?it/s]"
     ]
    },
    {
     "name": "stdout",
     "output_type": "stream",
     "text": [
      "CAA 72 3UTR\n"
     ]
    },
    {
     "name": "stderr",
     "output_type": "stream",
     "text": [
      "100%|██████████| 434/434 [01:25<00:00,  5.09it/s]\n",
      "  0%|          | 2/434 [00:00<00:28, 15.26it/s]"
     ]
    },
    {
     "name": "stdout",
     "output_type": "stream",
     "text": [
      "CAA 36 CDS\n"
     ]
    },
    {
     "name": "stderr",
     "output_type": "stream",
     "text": [
      "100%|██████████| 434/434 [00:31<00:00, 13.84it/s]\n",
      "  0%|          | 0/434 [00:00<?, ?it/s]"
     ]
    },
    {
     "name": "stdout",
     "output_type": "stream",
     "text": [
      "CAA 36 3UTR\n"
     ]
    },
    {
     "name": "stderr",
     "output_type": "stream",
     "text": [
      "100%|██████████| 434/434 [01:56<00:00,  3.71it/s]\n"
     ]
    },
    {
     "name": "stdout",
     "output_type": "stream",
     "text": [
      "NNN 54 3UTR\n"
     ]
    }
   ],
   "source": [
    "# combining chunks\n",
    "for variant, length, seq_type in confs:\n",
    "    if seq_type == \"CDS\":\n",
    "        prefix = PREFIX + \"CDS/CDS_\"\n",
    "    else:\n",
    "        prefix = PREFIX\n",
    "    blast_fname = f\"{prefix}{variant}_{length}_candidates_by_gene.csv.gz\"\n",
    "    if os.path.isfile(blast_fname):\n",
    "        print(f\"have {blast_fname}\")\n",
    "        continue\n",
    "    files = glob.glob(f\"{prefix}{variant}_{length}_candidates_by_gene_chunk*.json.gz\")\n",
    "    cbgs = []\n",
    "    for f in tqdm.tqdm(files, leave=True):\n",
    "        cbg = read_candidates_by_gene(f, f.replace(\".json.gz\", \".csv.gz\"))\n",
    "        cbgs.append(cbg)\n",
    "    combined_cbg = combine_candidates(cbgs, by_gene_cds)\n",
    "    annotate_transcripts_covered(combined_cbg)\n",
    "    for gene, candidates in combined_cbg.items():\n",
    "        for cand in candidates:\n",
    "            cand[\"gene\"] = gene\n",
    "            cand[\"gene_id\"] = cand[\"source_description\"].split(\"|\")[0]\n",
    "            cand[\"length\"] = length\n",
    "            cand[\"region_type\"] = seq_type\n",
    "    write_candidates_by_gene(combined_cbg, f\"{prefix}{variant}_{length}_candidates_by_gene.json.gz\")\n",
    "    dfs = []\n",
    "    for gene, candidates in combined_cbg.items():\n",
    "        dfs.extend([c[\"blast_results\"] for c in candidates])\n",
    "    df = pd.concat(dfs)\n",
    "    df.to_csv(blast_fname, index=False)\n",
    "    print(variant, length, seq_type)"
   ]
  },
  {
   "cell_type": "markdown",
   "metadata": {},
   "source": [
    "# Load data"
   ]
  },
  {
   "cell_type": "code",
   "execution_count": 9,
   "metadata": {},
   "outputs": [
    {
     "name": "stderr",
     "output_type": "stream",
     "text": [
      "100%|██████████| 25/25 [00:44<00:00,  1.78s/it]\n"
     ]
    }
   ],
   "source": [
    "all_candidates_by_gene = {}\n",
    "for variant, length, transcript_type in tqdm.tqdm(confs, leave=True):\n",
    "    # print(variant, length, transcript_type)\n",
    "    prefix = \"CDS/CDS_\" if transcript_type == \"CDS\" else \"\"\n",
    "    candidates_by_gene = read_candidates_by_gene(\n",
    "        PREFIX + f\"{prefix}{variant}_{length}_candidates_by_gene.json.gz\",\n",
    "        None, #  f\"{prefix}{variant}_{length}_candidates_by_gene.csv.gz\",  # skip loading blast results\n",
    "    )\n",
    "    all_candidates_by_gene[(variant, length, transcript_type)] = candidates_by_gene"
   ]
  },
  {
   "cell_type": "markdown",
   "metadata": {},
   "source": [
    "# Before expansion"
   ]
  },
  {
   "cell_type": "code",
   "execution_count": 12,
   "metadata": {},
   "outputs": [],
   "source": [
    "# in this figure, we just show 90 bp UTR sensors: CCA, GCA, TCA, CAA\n",
    "combined_pre_expansion_fig = combine_candidates([\n",
    "    all_candidates_by_gene[(variant, 90, \"3UTR\")] for variant in (\"CCA\", \"GCA\", \"TCA\", \"CAA\")\n",
    "], by_gene_cds)"
   ]
  },
  {
   "cell_type": "code",
   "execution_count": 13,
   "metadata": {},
   "outputs": [
    {
     "name": "stdout",
     "output_type": "stream",
     "text": [
      "1209.0 == 1209 miRNAs are 5.6% of the dataset\n",
      "2600 with 0 candidates (12.0%) of all genes, 19.5% of genes with annotated 3' UTRs)\n",
      "15712 with 1+ candidates (72.6% of all genes, 80.5% of genes with annotated 3' UTRs)\n",
      "10376 have >= 5 candidates (47.9% of all genes, 53.2% of genes with annotated 3' UTRs)\n",
      "    num    ct  frac_all_genes  frac_genes_with_utr\n",
      "0     0  2600        0.120065             0.195123\n",
      "1     1  1735        0.080120             0.088879\n",
      "2     2  1374        0.063450             0.070386\n",
      "3     3  1180        0.054491             0.060448\n",
      "4     4  1047        0.048349             0.053635\n",
      "5     5   937        0.043269             0.048000\n",
      "6     6   829        0.038282             0.042467\n",
      "7     7   728        0.033618             0.037293\n",
      "8     8   685        0.031632             0.035090\n",
      "9     9   632        0.029185             0.032375\n",
      "10   10   562        0.025952             0.028790\n",
      "         num    ct  frac_all_genes  frac_genes_with_utr\n",
      "106      215     1        0.000046             0.000051\n",
      "107   999999  1209        0.055830             0.000000\n",
      "108  9999999  2134        0.098545             0.000000\n"
     ]
    }
   ],
   "source": [
    "df = analyze_candidates_by_gene(\n",
    "    by_gene_cds, combined_pre_expansion_fig, PREFIX + \"combined_pre_expansion_fig.csv\", utr_genes=common,\n",
    "    exclude_non3utrs=True, verbose=True,\n",
    ")"
   ]
  },
  {
   "cell_type": "code",
   "execution_count": 14,
   "metadata": {},
   "outputs": [
    {
     "name": "stdout",
     "output_type": "stream",
     "text": [
      "15712\n",
      "0.725559916878319\n"
     ]
    }
   ],
   "source": [
    "print(df[(df.num > 0) & (df.num < MIRNA_NUM)].ct.sum())\n",
    "print(df[(df.num > 0) & (df.num < MIRNA_NUM)].frac_all_genes.sum())"
   ]
  },
  {
   "cell_type": "code",
   "execution_count": 15,
   "metadata": {},
   "outputs": [
    {
     "data": {
      "text/plain": [
       "(21655, 21655)"
      ]
     },
     "execution_count": 15,
     "metadata": {},
     "output_type": "execute_result"
    }
   ],
   "source": [
    "df.ct.sum(), len(by_gene_cds)"
   ]
  },
  {
   "cell_type": "code",
   "execution_count": 27,
   "metadata": {},
   "outputs": [
    {
     "data": {
      "text/plain": [
       "0.9999999999999998"
      ]
     },
     "execution_count": 27,
     "metadata": {},
     "output_type": "execute_result"
    }
   ],
   "source": [
    "df.frac_all_genes.sum()"
   ]
  },
  {
   "cell_type": "code",
   "execution_count": 28,
   "metadata": {},
   "outputs": [
    {
     "data": {
      "text/plain": [
       "1.0"
      ]
     },
     "execution_count": 28,
     "metadata": {},
     "output_type": "execute_result"
    }
   ],
   "source": [
    "df.frac_genes_with_utr.sum()"
   ]
  },
  {
   "cell_type": "code",
   "execution_count": 16,
   "metadata": {},
   "outputs": [
    {
     "data": {
      "text/plain": [
       "20645"
      ]
     },
     "execution_count": 16,
     "metadata": {},
     "output_type": "execute_result"
    }
   ],
   "source": [
    "len(common)"
   ]
  },
  {
   "cell_type": "code",
   "execution_count": 30,
   "metadata": {},
   "outputs": [
    {
     "data": {
      "text/plain": [
       "1010"
      ]
     },
     "execution_count": 30,
     "metadata": {},
     "output_type": "execute_result"
    }
   ],
   "source": [
    "len(by_gene_cds) - len(common)"
   ]
  },
  {
   "cell_type": "code",
   "execution_count": 31,
   "metadata": {},
   "outputs": [
    {
     "data": {
      "text/plain": [
       "0.9533595012699145"
      ]
     },
     "execution_count": 31,
     "metadata": {},
     "output_type": "execute_result"
    }
   ],
   "source": [
    "len(common) / len(by_gene_cds)"
   ]
  },
  {
   "cell_type": "code",
   "execution_count": 17,
   "metadata": {},
   "outputs": [
    {
     "name": "stdout",
     "output_type": "stream",
     "text": [
      "['0', '1', '2', '3', '4', '5+', 'miRNAs', \"Without\\n3' UTR\"] [0.12006465019625953, 0.08012006465019626, 0.06344954975756176, 0.054490879704456235, 0.048349111059801435, 0.4791503117063034, 0.05583006234126068, 0.0985453705841607] 0.9999999999999999\n"
     ]
    },
    {
     "data": {
      "image/png": "[encoded data removed]",
      "text/plain": [
       "<Figure size 480x480 with 1 Axes>"
      ]
     },
     "metadata": {},
     "output_type": "display_data"
    }
   ],
   "source": [
    "df = pd.read_csv(PREFIX + \"combined_pre_expansion_fig.csv\")\n",
    "fig, ax = plt.subplots(1, 1, figsize=(3, 3))\n",
    "patches, texts, autotexts = draw_pie(ax, df, label_size=12, field=\"frac_all_genes\")\n",
    "ax.set_title(\"Mus musculus\")\n",
    "fig.tight_layout()\n",
    "fig.savefig(PREFIX + \"Fig 1b.svg\", dpi=300)"
   ]
  },
  {
   "cell_type": "markdown",
   "metadata": {},
   "source": [
    "# Supplementary Figure 2h"
   ]
  },
  {
   "cell_type": "code",
   "execution_count": 10,
   "metadata": {},
   "outputs": [],
   "source": [
    "# In S2h we pull all the tricks, combining CCA/GCA/TCA/CAA variants:\n",
    "# - for the UTR @ 90 bp +\n",
    "# - for the UTR @ 72 bp +\n",
    "# - for the CDS @ 90 bp + \n",
    "# - for the CDS @ 72 bp + \n",
    "# - for the UTR @ 36 + 54 bp +\n",
    "# - for the CDS @ 36 bp + 54 bp @ UTR +\n",
    "combined_figS2h = combine_candidates([\n",
    "    all_candidates_by_gene[(variant, 90, \"3UTR\")] for variant in (\"CCA\", \"GCA\", \"TCA\", \"CAA\")\n",
    "] + [\n",
    "    all_candidates_by_gene[(variant, 72, \"3UTR\")] for variant in (\"CCA\", \"GCA\", \"TCA\", \"CAA\")\n",
    "] + [\n",
    "    all_candidates_by_gene[(variant, 90, \"CDS\")] for variant in (\"CCA\", \"GCA\", \"TCA\", \"CAA\")\n",
    "] + [\n",
    "    all_candidates_by_gene[(variant, 72, \"CDS\")] for variant in (\"CCA\", \"GCA\", \"TCA\", \"CAA\")\n",
    "] + [\n",
    "    process_split_cbg(all_candidates_by_gene[(variant, 36, \"3UTR\")], all_candidates_by_gene[(\"NNN\", 54, \"3UTR\")], 36 + 54, \"3UTR-3UTR\") for variant in (\"CCA\", \"GCA\", \"TCA\", \"CAA\")\n",
    "] + [\n",
    "    process_split_cbg(all_candidates_by_gene[(variant, 36, \"CDS\")], all_candidates_by_gene[(\"NNN\", 54, \"3UTR\")], 36 + 54, \"CDS-3UTR\") for variant in (\"CCA\", \"GCA\", \"TCA\", \"CAA\")\n",
    "], by_gene_cds)"
   ]
  },
  {
   "cell_type": "code",
   "execution_count": 27,
   "metadata": {},
   "outputs": [
    {
     "name": "stdout",
     "output_type": "stream",
     "text": [
      "writing 3264017 candidates\n",
      "19977 unique genes\n"
     ]
    }
   ],
   "source": [
    "write_candidate_table(combined_figS2h, f\"{PREFIX}{ORGANISM}_RADAR_sensor_candidates.csv.gz\")"
   ]
  },
  {
   "cell_type": "code",
   "execution_count": 12,
   "metadata": {},
   "outputs": [
    {
     "name": "stdout",
     "output_type": "stream",
     "text": [
      "1209.0 == 1209 miRNAs are 5.6% of the dataset\n",
      "469 with 0 candidates (2.2%) of all genes, 2.3% of genes with annotated 3' UTRs)\n",
      "19977 with 1+ candidates (92.3% of all genes, 97.7% of genes with annotated 3' UTRs)\n",
      "19373 have >= 5 candidates (89.5% of all genes, 94.8% of genes with annotated 3' UTRs)\n",
      "    num   ct  frac_all_genes  frac_genes_with_utr\n",
      "0     0  469        0.021658             0.022938\n",
      "1     1  170        0.007850             0.008315\n",
      "2     2  150        0.006927             0.007336\n",
      "3     3  134        0.006188             0.006554\n",
      "4     4  150        0.006927             0.007336\n",
      "5     5  122        0.005634             0.005967\n",
      "6     6  112        0.005172             0.005478\n",
      "7     7   96        0.004433             0.004695\n",
      "8     8  104        0.004803             0.005087\n",
      "9     9   99        0.004572             0.004842\n",
      "10   10  102        0.004710             0.004989\n",
      "          num    ct  frac_all_genes  frac_genes_with_utr\n",
      "1016    12516     1        0.000046             0.000049\n",
      "1017   999999  1209        0.055830             0.000000\n",
      "1018  9999999     0        0.000000             0.000000\n"
     ]
    }
   ],
   "source": [
    "df = analyze_candidates_by_gene(\n",
    "    by_gene_cds, combined_figS2h, PREFIX + \"combined_figS2h.csv\", utr_genes=common, verbose=True,\n",
    "    exclude_non3utrs=False,\n",
    ")"
   ]
  },
  {
   "cell_type": "code",
   "execution_count": 13,
   "metadata": {},
   "outputs": [
    {
     "name": "stdout",
     "output_type": "stream",
     "text": [
      "19977\n",
      "0.9225121219117987\n"
     ]
    }
   ],
   "source": [
    "print(df[(df.num > 0) & (df.num < MIRNA_NUM)].ct.sum())\n",
    "print(df[(df.num > 0) & (df.num < MIRNA_NUM)].frac_all_genes.sum())"
   ]
  },
  {
   "cell_type": "code",
   "execution_count": 14,
   "metadata": {},
   "outputs": [
    {
     "data": {
      "text/plain": [
       "21655"
      ]
     },
     "execution_count": 14,
     "metadata": {},
     "output_type": "execute_result"
    }
   ],
   "source": [
    "df.ct.sum()"
   ]
  },
  {
   "cell_type": "code",
   "execution_count": 15,
   "metadata": {},
   "outputs": [
    {
     "name": "stdout",
     "output_type": "stream",
     "text": [
      "['0', '1-5', '6-50', '51+', 'miRNAs'] [0.02165781574694066, 0.03352574463172478, 0.21477718771646268, 0.6742091895636113, 0.05583006234126068] 1.0\n"
     ]
    },
    {
     "data": {
      "image/png": "[encoded data removed]",
      "text/plain": [
       "<Figure size 480x480 with 1 Axes>"
      ]
     },
     "metadata": {},
     "output_type": "display_data"
    }
   ],
   "source": [
    "df = pd.read_csv(PREFIX + \"combined_figS2h.csv\")\n",
    "fig, ax = plt.subplots(1, 1, figsize=(3, 3))\n",
    "patches, texts, autotexts = draw_pie_grouped(ax, df, groups=(\"0-0\", \"1-5\", \"6-50\", \"51-inf\"), label_size=12, field=\"frac_all_genes\")\n",
    "ax.set_title(\"Mus musculus\")\n",
    "fig.tight_layout()\n",
    "fig.savefig(PREFIX + \"Fig 2d.svg\", dpi=300)"
   ]
  },
  {
   "cell_type": "markdown",
   "metadata": {},
   "source": [
    "## Ones without any candidates"
   ]
  },
  {
   "cell_type": "code",
   "execution_count": 17,
   "metadata": {},
   "outputs": [],
   "source": [
    "no_candidates = sorted([gene for gene in by_gene_cds if len(combined_figS2h.get(gene, [])) == 0 and not gene.lower().startswith(\"mir\")])"
   ]
  },
  {
   "cell_type": "code",
   "execution_count": 18,
   "metadata": {},
   "outputs": [
    {
     "data": {
      "text/plain": [
       "469"
      ]
     },
     "execution_count": 18,
     "metadata": {},
     "output_type": "execute_result"
    }
   ],
   "source": [
    "len(no_candidates)"
   ]
  },
  {
   "cell_type": "code",
   "execution_count": 19,
   "metadata": {},
   "outputs": [
    {
     "name": "stdout",
     "output_type": "stream",
     "text": [
      "IGKV\t65\t13.9%\n",
      "TRAJ\t51\t10.9%\n",
      "IGHV\t47\t10.0%\n",
      "H\t45\t9.6%\n",
      "OLFR\t41\t8.7%\n",
      "IGHD\t17\t3.6%\n",
      "RPL\t17\t3.6%\n",
      "TRAV\t13\t2.8%\n",
      "TRBJ\t13\t2.8%\n",
      "RPS\t12\t2.6%\n",
      "MT\t8\t1.7%\n",
      "KRTAP\t7\t1.5%\n",
      "EIF\t5\t1.1%\n",
      "IGKJ\t5\t1.1%\n",
      "VMN\t5\t1.1%\n",
      "IFNA\t4\t0.9%\n",
      "IGHJ\t4\t0.9%\n",
      "IGLJ\t4\t0.9%\n",
      "TRGJ\t4\t0.9%\n",
      "COX\t3\t0.6%\n",
      "DEFA\t3\t0.6%\n",
      "ZFP\t3\t0.6%\n",
      "ATP\t2\t0.4%\n",
      "BTBD\t2\t0.4%\n",
      "DEFB\t2\t0.4%\n",
      "NDUFA\t2\t0.4%\n",
      "PSME\t2\t0.4%\n",
      "SAMT\t2\t0.4%\n",
      "SPIN\t2\t0.4%\n",
      "TAAR\t2\t0.4%\n"
     ]
    }
   ],
   "source": [
    "print_gene_prefixes(no_candidates)"
   ]
  },
  {
   "cell_type": "code",
   "execution_count": 20,
   "metadata": {},
   "outputs": [
    {
     "name": "stdout",
     "output_type": "stream",
     "text": [
      "453.3280116110305\n"
     ]
    },
    {
     "data": {
      "image/png": "[encoded data removed]",
      "text/plain": [
       "<Figure size 960x640 with 1 Axes>"
      ]
     },
     "metadata": {
      "needs_background": "light"
     },
     "output_type": "display_data"
    }
   ],
   "source": [
    "cds_lengths = []\n",
    "for gene in no_candidates:\n",
    "    for cds in by_gene_cds[gene].values():\n",
    "        cds_lengths.append(len(cds.seq))\n",
    "fig, ax = plt.subplots()\n",
    "ax.hist(cds_lengths, bins=np.linspace(0, 1000, 50))\n",
    "print(np.mean(cds_lengths))"
   ]
  },
  {
   "cell_type": "code",
   "execution_count": 21,
   "metadata": {},
   "outputs": [
    {
     "name": "stdout",
     "output_type": "stream",
     "text": [
      "79.19072847682119\n"
     ]
    },
    {
     "data": {
      "image/png": "[encoded data removed]",
      "text/plain": [
       "<Figure size 960x640 with 1 Axes>"
      ]
     },
     "metadata": {
      "needs_background": "light"
     },
     "output_type": "display_data"
    }
   ],
   "source": [
    "utr_lengths = []\n",
    "for gene in no_candidates:\n",
    "    utrs = by_gene_3utr.get(gene, dict()).values()\n",
    "    for utr in utrs:\n",
    "        utr_lengths.append(len(utr.seq))\n",
    "    else:\n",
    "        utr_lengths.append(0)\n",
    "fig, ax = plt.subplots()\n",
    "ax.hist(utr_lengths, bins=np.linspace(0, 1000, 50))\n",
    "print(np.mean(utr_lengths))"
   ]
  },
  {
   "cell_type": "markdown",
   "metadata": {},
   "source": [
    "# Incremental benefits"
   ]
  },
  {
   "cell_type": "code",
   "execution_count": 22,
   "metadata": {},
   "outputs": [],
   "source": [
    "df = pd.read_csv(PREFIX + \"candidates_figS2h.csv.gz\")"
   ]
  },
  {
   "cell_type": "code",
   "execution_count": 24,
   "metadata": {},
   "outputs": [
    {
     "name": "stdout",
     "output_type": "stream",
     "text": [
      "(90, '3UTR')\t15712\t+72.6%\t72.6%\n",
      "(72, '3UTR')\t17114\t+6.5%\t79.0%\n",
      "(90, 'CDS')\t19537\t+11.2%\t90.2%\n",
      "(72, 'CDS')\t19848\t+1.4%\t91.7%\n",
      "(90, '3UTR-3UTR')\t19904\t+0.3%\t91.9%\n",
      "(90, 'CDS-3UTR')\t19977\t+0.3%\t92.3%\n"
     ]
    },
    {
     "data": {
      "image/png": "[encoded data removed]",
      "text/plain": [
       "<Figure size 720x419.2 with 1 Axes>"
      ]
     },
     "metadata": {
      "needs_background": "light"
     },
     "output_type": "display_data"
    }
   ],
   "source": [
    "using_combos = []\n",
    "combos = [\n",
    "    (90, \"3UTR\"),\n",
    "    (72, \"3UTR\"),\n",
    "    (90, \"CDS\"),\n",
    "    (72, \"CDS\"),\n",
    "    (90, \"3UTR-3UTR\"),\n",
    "    (90, \"CDS-3UTR\"),\n",
    "]\n",
    "n_genes = len(by_gene_cds)\n",
    "gb = df.groupby([\"length\", \"region_type\"])\n",
    "fig, ax = plt.subplots(figsize=(4.5, 2.62))\n",
    "prev = 0\n",
    "for i, combo in enumerate(combos):\n",
    "    using_combos.append(combo)\n",
    "    genes = set()\n",
    "    for this_combo in using_combos:\n",
    "        genes |= set(gb.get_group(this_combo).gene)\n",
    "    n = len(genes)\n",
    "    incremental = (n - prev) / n_genes * 100\n",
    "    print(f\"{combo}\\t{n}\\t+{incremental:.1f}%\\t{n / n_genes:.1%}\")\n",
    "    ax.barh(i, incremental, left=prev / n_genes * 100, color=TABLEAU_10[\"light teal\"])\n",
    "    ax.text(n / n_genes * 100, i, f\" +{incremental:.1f}%\", verticalalignment=\"center\")\n",
    "    prev = n\n",
    "ax.set_ylim(len(combos) - 0.5, -0.5)\n",
    "ax.set_yticks(range(len(combos)))\n",
    "ax.set_yticklabels([\n",
    "    \"90 bp 3' UTR sensors\",\n",
    "    \"+72 bp 3' UTR sensors\",\n",
    "    \"+90 bp CDS sensors\",\n",
    "    \"+72 bp CDS sensors\",\n",
    "    \"+90 bp split 3' UTR - 3' UTR sensors\",\n",
    "    \"+90 bp split CDS - 3' UTR sensors\",\n",
    "])\n",
    "ax.set_xlabel(f\"% of {ORGANISM} genes with 1+ sensor candidates\")\n",
    "ax.spines['top'].set_visible(False)\n",
    "ax.spines['right'].set_visible(False)\n",
    "fig.savefig(PREFIX + \"incremental benefits.svg\")"
   ]
  }
 ],
 "metadata": {
  "kernelspec": {
   "display_name": "Python 3",
   "language": "python",
   "name": "python3"
  },
  "language_info": {
   "codemirror_mode": {
    "name": "ipython",
    "version": 3
   },
   "file_extension": ".py",
   "mimetype": "text/x-python",
   "name": "python",
   "nbconvert_exporter": "python",
   "pygments_lexer": "ipython3",
   "version": "3.6.10"
  }
 },
 "nbformat": 4,
 "nbformat_minor": 4
}
